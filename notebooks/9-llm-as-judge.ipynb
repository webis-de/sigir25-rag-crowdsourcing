{
 "cells": [
  {
   "cell_type": "code",
   "id": "initial_id",
   "metadata": {
    "collapsed": true
   },
   "source": [
    "import pandas as pd\n",
    "\n",
    "DIMS = ['correctness_topical', 'coherence_logical', 'coherence_stylistic', 'coverage_broad',\n",
    "       'coverage_deep', 'consistency_internal', 'quality_overall']"
   ],
   "outputs": [],
   "execution_count": null
  },
  {
   "metadata": {},
   "cell_type": "code",
   "source": [
    "import krippendorff\n",
    "\n",
    "def get_agreement(df):\n",
    "    data = []\n",
    "    for dim in DIMS:\n",
    "        d = (\n",
    "            df\n",
    "            .pivot(index=\"item_id\", columns=\"worker_id\", values=dim)\n",
    "            .values\n",
    "            .astype(\"U\")\n",
    "            .T\n",
    "        )\n",
    "        alpha = round(float(krippendorff.alpha(reliability_data=d, level_of_measurement=\"ordinal\", value_domain=[\"a\", \"n\", \"b\"])), 3)\n",
    "        \n",
    "        data.append({\"dimension\": dim, \"alpha\": alpha})\n",
    "        \n",
    "    return pd.DataFrame(data)"
   ],
   "id": "61ee4cd60216c803",
   "outputs": [],
   "execution_count": null
  },
  {
   "metadata": {},
   "cell_type": "code",
   "source": [
    "df_llm = (\n",
    "    pd.read_json(\"../data/artifacts/llm_ratings.jsonl.gz\", lines=True)\n",
    "    .apply(lambda row: row.replace({\"A\": row[\"response_a\"], \"B\": row[\"response_b\"]}), axis=1)\n",
    "    .assign(\n",
    "        response_a_new = lambda df: df.apply(lambda row: sorted([row[\"response_a\"], row[\"response_b\"]])[0], axis=1),\n",
    "        response_b_new = lambda df: df.apply(lambda row: sorted([row[\"response_a\"], row[\"response_b\"]])[1], axis=1)\n",
    "    )\n",
    "    .drop(columns=[\"response_a\", \"response_b\"])\n",
    "    .rename(columns={\"response_a_new\": \"response_a\", \"response_b_new\": \"response_b\"})\n",
    "    .set_index([\"response_a\", \"response_b\"])\n",
    "    .apply(lambda row: row.replace({row.name[0]: \"A\", row.name[1]: \"B\"}), axis=1)\n",
    "    .reset_index()\n",
    "    .sort_values([\"inference\", \"query_id\", \"response_a\", \"response_b\"])\n",
    "    .assign(worker_id=lambda df: df.groupby([\"inference\", \"query_id\", \"response_a\", \"response_b\"]).cumcount())\n",
    "    .groupby([\"inference\", \"query_id\", \"response_a\", \"response_b\"])\n",
    "    .head(2)\n",
    "    .replace({\"A\": \"a\", \"N\": \"n\", \"B\": \"b\"})\n",
    ")"
   ],
   "id": "24bcd81a49336491",
   "outputs": [],
   "execution_count": null
  },
  {
   "metadata": {},
   "cell_type": "code",
   "source": [
    "df_human = (\n",
    "    pd.read_json(\"../data/artifacts/ratings.jsonl.gz\", lines=True)\n",
    "    .assign(\n",
    "        pair_1=lambda df: df[\"response_a\"] + \"_\" + df[\"response_b\"],\n",
    "        pair_2=lambda df: df[\"response_b\"] + \"_\" + df[\"response_a\"]\n",
    "    )\n",
    ")\n",
    "df_human = (\n",
    "    df_human\n",
    "    .loc[df_human[\"pair_1\"].isin(df_human[\"pair_2\"]), :]\n",
    ")\n",
    "df_human\n",
    "\n",
    "df_human = (\n",
    "    df_human\n",
    "    .rename(columns={k+\"_gold\": k for k in DIMS})\n",
    "    .assign(inference=\"human\")\n",
    "    .assign(\n",
    "        response_a_new = lambda df: df.apply(lambda row: sorted([row[\"response_a\"], row[\"response_b\"]])[0], axis=1),\n",
    "        response_b_new = lambda df: df.apply(lambda row: sorted([row[\"response_a\"], row[\"response_b\"]])[1], axis=1)\n",
    "    )\n",
    "    .drop(columns=[\"response_a\", \"response_b\"])\n",
    "    .rename(columns={\"response_a_new\": \"response_a\", \"response_b_new\": \"response_b\"})\n",
    "    .set_index([\"response_a\", \"response_b\"])\n",
    "    .apply(lambda row: row.replace({row.name[0]: \"A\", row.name[1]: \"B\"}), axis=1)\n",
    "    .reset_index()\n",
    "    .sort_values([\"inference\", \"query_id\", \"response_a\", \"response_b\"])\n",
    "    .assign(worker_id=lambda df: df.groupby([\"inference\", \"query_id\", \"response_a\", \"response_b\"]).cumcount())\n",
    "    .groupby([\"inference\", \"query_id\", \"response_a\", \"response_b\"])\n",
    "    .head(2)\n",
    "    .rename(columns={k+\"_gold\": k for k in DIMS})\n",
    "    .assign(inference=\"human\")\n",
    "    .loc[:, [\"response_a\", \"response_b\", \"inference\"] + DIMS]\n",
    ")"
   ],
   "id": "672651b15d4d7554",
   "outputs": [],
   "execution_count": null
  },
  {
   "metadata": {},
   "cell_type": "code",
   "source": [
    "get_agreement(\n",
    "    df_llm\n",
    "    .query(\"inference == 'combined'\")\n",
    "    .assign(item_id=lambda df: df[\"response_a\"] + \"_\" + df[\"response_b\"], axis=1)\n",
    "    .assign(worker_id=lambda df: df.groupby(\"item_id\").cumcount())\n",
    "    .loc[:, [\"item_id\", \"worker_id\"] + DIMS]\n",
    ").round(2)"
   ],
   "id": "3506281768e2da2d",
   "outputs": [],
   "execution_count": null
  },
  {
   "metadata": {},
   "cell_type": "code",
   "source": [
    "get_agreement(\n",
    "    df_llm\n",
    "    .query(\"inference == 'individual'\")\n",
    "    .assign(item_id=lambda df: df[\"response_a\"] + \"_\" + df[\"response_b\"], axis=1)\n",
    "    .assign(worker_id=lambda df: df.groupby(\"item_id\").cumcount())\n",
    "    .loc[:, [\"item_id\", \"worker_id\"] + DIMS]\n",
    ").round(2)"
   ],
   "id": "c7db87355650edbb",
   "outputs": [],
   "execution_count": null
  },
  {
   "metadata": {},
   "cell_type": "code",
   "source": [
    "get_agreement(\n",
    "    pd.concat([\n",
    "        df_llm.query(\"inference == 'combined'\"),\n",
    "        df_human\n",
    "    ])\n",
    "    .assign(item_id=lambda df: df[\"response_a\"] + \"_\" + df[\"response_b\"], axis=1)\n",
    "    .assign(worker_id=lambda df: df.groupby(\"item_id\").cumcount())\n",
    "    .loc[:, [\"item_id\", \"worker_id\"] + DIMS]\n",
    ").round(2)"
   ],
   "id": "f28a65a46b237528",
   "outputs": [],
   "execution_count": null
  },
  {
   "metadata": {},
   "cell_type": "code",
   "source": [
    "get_agreement(\n",
    "    pd.concat([\n",
    "        df_llm.query(\"inference == 'individual'\"),\n",
    "        df_human\n",
    "    ])\n",
    "    .assign(item_id=lambda df: df[\"response_a\"] + \"_\" + df[\"response_b\"], axis=1)\n",
    "    .assign(worker_id=lambda df: df.groupby(\"item_id\").cumcount())\n",
    "    .loc[:, [\"item_id\", \"worker_id\"] + DIMS]\n",
    ").round(2)"
   ],
   "id": "f8caa753c9c20600",
   "outputs": [],
   "execution_count": null
  },
  {
   "metadata": {},
   "cell_type": "code",
   "source": "df_llm",
   "id": "2c358d5825ef93a",
   "outputs": [],
   "execution_count": null
  },
  {
   "metadata": {},
   "cell_type": "code",
   "source": [
    "get_agreement(\n",
    "    pd.concat([\n",
    "        df_llm.query(\"inference == 'individual'\"),\n",
    "        df_llm.query(\"inference == 'combined'\")\n",
    "    ])\n",
    "    .assign(item_id=lambda df: df[\"response_a\"] + \"_\" + df[\"response_b\"] + df[\"worker_id\"].astype(str), axis=1)\n",
    "    .assign(worker_id=lambda df: df.groupby(\"item_id\").cumcount())\n",
    "    .loc[:, [\"item_id\", \"worker_id\"] + DIMS]\n",
    ").round(2)"
   ],
   "id": "4bbb5494f277e5ab",
   "outputs": [],
   "execution_count": null
  },
  {
   "metadata": {},
   "cell_type": "code",
   "source": [
    "(\n",
    "    df_llm\n",
    "    .query(\"inference == 'combined'\")\n",
    "    .set_index([\"response_a\", \"response_b\"])\n",
    "    .loc[:, DIMS]\n",
    "    .replace({\"a\": -1, \"n\": 0, \"b\": 1})\n",
    "    .corr(method=\"spearman\")\n",
    "    .agg([\"min\", \"mean\"], axis=1)\n",
    "    .round(2)\n",
    ")"
   ],
   "id": "a9d2fbcf9c73a85",
   "outputs": [],
   "execution_count": null
  },
  {
   "metadata": {},
   "cell_type": "code",
   "source": [
    "(\n",
    "    df_llm\n",
    "    .query(\"inference == 'individual'\")\n",
    "    .set_index([\"response_a\", \"response_b\"])\n",
    "    .loc[:, DIMS]\n",
    "    .replace({\"a\": -1, \"n\": 0, \"b\": 1})\n",
    "    .corr(method=\"spearman\")\n",
    "    .agg([\"min\", \"mean\"], axis=1)\n",
    "    .round(2)\n",
    ")"
   ],
   "id": "eb93636e00bf58f0",
   "outputs": [],
   "execution_count": null
  },
  {
   "metadata": {},
   "cell_type": "code",
   "source": "df_llm",
   "id": "cad6d0347d88ca9f",
   "outputs": [],
   "execution_count": null
  },
  {
   "metadata": {},
   "cell_type": "code",
   "source": "",
   "id": "8a45469e366b6e64",
   "outputs": [],
   "execution_count": null
  }
 ],
 "metadata": {
  "kernelspec": {
   "display_name": "Python 3",
   "language": "python",
   "name": "python3"
  },
  "language_info": {
   "codemirror_mode": {
    "name": "ipython",
    "version": 2
   },
   "file_extension": ".py",
   "mimetype": "text/x-python",
   "name": "python",
   "nbconvert_exporter": "python",
   "pygments_lexer": "ipython2",
   "version": "2.7.6"
  }
 },
 "nbformat": 4,
 "nbformat_minor": 5
}
