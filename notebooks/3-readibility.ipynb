{
 "cells": [
  {
   "cell_type": "code",
   "id": "initial_id",
   "metadata": {
    "collapsed": true
   },
   "source": [
    "import pandas as pd\n",
    "import textstat\n",
    "import seaborn as sns\n",
    "import matplotlib.pyplot as plt\n",
    "import aquarel"
   ],
   "outputs": [],
   "execution_count": null
  },
  {
   "metadata": {},
   "cell_type": "code",
   "source": [
    "df = (\n",
    "    pd.read_json(\"../data/artifacts/responses.jsonl.gz\", lines=True)\n",
    "    .loc[:, [\"response\", \"kind\", \"style\", \"references_ids\", \"references_texts\", \"statements\"]]\n",
    "    .explode(\"statements\")\n",
    "    .assign(\n",
    "        text=lambda df: df[\"statements\"].apply(lambda x: x[\"text\"]),\n",
    "        source=lambda df: df[\"statements\"].apply(lambda x: x[\"citations\"])\n",
    "    )\n",
    "    .explode(\"source\")\n",
    "    .dropna()\n",
    "    .assign(\n",
    "        source=lambda df: df.apply(lambda row: row[\"references_texts\"][row[\"references_ids\"].index(row[\"source\"])], axis=1)\n",
    "    )\n",
    "    .loc[:, [\"response\", \"kind\", \"style\", \"text\", \"source\"]]\n",
    "    .assign(\n",
    "        response_readability=lambda df: df[\"text\"].apply(textstat.flesch_reading_ease),\n",
    "        reference_readability=lambda df: df[\"source\"].apply(textstat.flesch_reading_ease)\n",
    "    )\n",
    "    .drop(columns=[\"text\", \"source\"])\n",
    "    .groupby([\"kind\", \"style\", \"response\"])\n",
    "    .apply(pd.Series.median)\n",
    "    .reset_index()\n",
    "    .drop(columns=[\"response\"])\n",
    ")\n",
    "df"
   ],
   "id": "9effd92d6e2df3e9",
   "outputs": [],
   "execution_count": null
  },
  {
   "metadata": {},
   "cell_type": "code",
   "source": [
    "with (\n",
    "    aquarel.load_theme(\"boxy_light\")\n",
    "    .set_axes(top=False, left=False, right=False, bottom=True)\n",
    "):\n",
    "    g = sns.FacetGrid(\n",
    "        data=df.melt(id_vars=[\"kind\", \"style\"]),\n",
    "        row=\"kind\",\n",
    "        legend_out=True,\n",
    "        aspect=3,\n",
    "        sharex=True,\n",
    "        height=3.64/2,\n",
    "    )\n",
    "    \n",
    "    g.map_dataframe(sns.kdeplot, x=\"value\", hue=\"variable\",common_norm=True, common_grid=True)\n",
    "\n",
    "    \n",
    "for ax in g.axes:\n",
    "    ax[0].set_xlim(0,100)\n",
    "\n",
    "plt.tight_layout()\n",
    "g.savefig(\"figure-readibility.pdf\")\n",
    "plt.show()\n"
   ],
   "id": "f3e9dcbff9c09547",
   "outputs": [],
   "execution_count": null
  },
  {
   "metadata": {},
   "cell_type": "code",
   "source": "",
   "id": "53faa6871ed7f59",
   "outputs": [],
   "execution_count": null
  }
 ],
 "metadata": {
  "kernelspec": {
   "display_name": "Python 3",
   "language": "python",
   "name": "python3"
  },
  "language_info": {
   "codemirror_mode": {
    "name": "ipython",
    "version": 2
   },
   "file_extension": ".py",
   "mimetype": "text/x-python",
   "name": "python",
   "nbconvert_exporter": "python",
   "pygments_lexer": "ipython2",
   "version": "2.7.6"
  }
 },
 "nbformat": 4,
 "nbformat_minor": 5
}
